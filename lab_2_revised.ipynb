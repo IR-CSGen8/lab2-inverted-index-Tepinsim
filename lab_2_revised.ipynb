{
 "cells": [
  {
   "cell_type": "code",
   "execution_count": 10,
   "id": "81d8d80a",
   "metadata": {},
   "outputs": [
    {
     "data": {
      "text/html": [
       "<div>\n",
       "<style scoped>\n",
       "    .dataframe tbody tr th:only-of-type {\n",
       "        vertical-align: middle;\n",
       "    }\n",
       "\n",
       "    .dataframe tbody tr th {\n",
       "        vertical-align: top;\n",
       "    }\n",
       "\n",
       "    .dataframe thead th {\n",
       "        text-align: right;\n",
       "    }\n",
       "</style>\n",
       "<table border=\"1\" class=\"dataframe\">\n",
       "  <thead>\n",
       "    <tr style=\"text-align: right;\">\n",
       "      <th></th>\n",
       "      <th>Document ID</th>\n",
       "      <th>Content</th>\n",
       "    </tr>\n",
       "  </thead>\n",
       "  <tbody>\n",
       "    <tr>\n",
       "      <th>0</th>\n",
       "      <td>1</td>\n",
       "      <td>{\\n   \"title\": \"Introduction to Python\",\\n   \"...</td>\n",
       "    </tr>\n",
       "    <tr>\n",
       "      <th>1</th>\n",
       "      <td>2</td>\n",
       "      <td>{\\n   \"title\": \"Data Analysis with Pandas\",\\n ...</td>\n",
       "    </tr>\n",
       "    <tr>\n",
       "      <th>2</th>\n",
       "      <td>3</td>\n",
       "      <td>{\\n   \"title\": \"Web Development with Flask\",\\n...</td>\n",
       "    </tr>\n",
       "    <tr>\n",
       "      <th>3</th>\n",
       "      <td>4</td>\n",
       "      <td>{\\n   \"title\": \"Machine Learning with Scikit-L...</td>\n",
       "    </tr>\n",
       "    <tr>\n",
       "      <th>4</th>\n",
       "      <td>5</td>\n",
       "      <td>{\\n   \"title\": \"Data Visualization with Matplo...</td>\n",
       "    </tr>\n",
       "  </tbody>\n",
       "</table>\n",
       "</div>"
      ],
      "text/plain": [
       "   Document ID                                            Content\n",
       "0            1  {\\n   \"title\": \"Introduction to Python\",\\n   \"...\n",
       "1            2  {\\n   \"title\": \"Data Analysis with Pandas\",\\n ...\n",
       "2            3  {\\n   \"title\": \"Web Development with Flask\",\\n...\n",
       "3            4  {\\n   \"title\": \"Machine Learning with Scikit-L...\n",
       "4            5  {\\n   \"title\": \"Data Visualization with Matplo..."
      ]
     },
     "execution_count": 10,
     "metadata": {},
     "output_type": "execute_result"
    }
   ],
   "source": [
    "# Import necessary libraries\n",
    "import pandas as pd\n",
    "import json\n",
    "import string \n",
    "\n",
    "# Load the CSV dataset\n",
    "df = pd.read_csv(\"semi_strut.csv\")\n",
    "\n",
    "# Display the first few rows of the dataset\n",
    "df.head()"
   ]
  },
  {
   "cell_type": "code",
   "execution_count": 11,
   "id": "a5ea1871",
   "metadata": {},
   "outputs": [
    {
     "name": "stdout",
     "output_type": "stream",
     "text": [
      "   Document ID                                            Content  \\\n",
      "0            1  {\\n   \"title\": \"Introduction to Python\",\\n   \"...   \n",
      "1            2  {\\n   \"title\": \"Data Analysis with Pandas\",\\n ...   \n",
      "2            3  {\\n   \"title\": \"Web Development with Flask\",\\n...   \n",
      "3            4  {\\n   \"title\": \"Machine Learning with Scikit-L...   \n",
      "4            5  {\\n   \"title\": \"Data Visualization with Matplo...   \n",
      "\n",
      "                                               Terms  \n",
      "0              [Introduction, to, Python, John, Doe]  \n",
      "1        [Data, Analysis, with, Pandas, Jane, Smith]  \n",
      "2     [Web, Development, with, Flask, Mike, Johnson]  \n",
      "3  [Machine, Learning, with, Scikit-Learn, Emily,...  \n",
      "4  [Data, Visualization, with, Matplotlib, Robert...  \n"
     ]
    }
   ],
   "source": [
    "# Tokenization function to extract terms from the JSON-like content\n",
    "# Remember to exact both \n",
    "# 1 .Extract terms from various fields (title, author)\n",
    "def tokenize_content(content):\n",
    "    content_dict = json.loads(content)\n",
    "    terms = []\n",
    "    \n",
    "    # Extract terms from various fields (title, author)\n",
    "    terms.extend(content_dict.get(\"title\", \"\").split())\n",
    "    terms.extend(content_dict.get(\"author\", \"\").split())\n",
    "    # terms.extend(content_dict.get(\"author\", \"\").split())\n",
    "    return terms\n",
    "tokenize_content(df[\"Content\"][0])\n",
    "# 2. apply to all row in panda df , by create new column \"Terms\"\n",
    "df[\"Terms\"] = df[\"Content\"].apply(tokenize_content)\n",
    "print(df.head())\n"
   ]
  },
  {
   "cell_type": "code",
   "execution_count": 12,
   "id": "e3d23e40",
   "metadata": {},
   "outputs": [],
   "source": [
    "# 4. Implement a preprocessing function that converts terms to lowercase, removes punctuation, and removes common stop words.\n",
    "    # Create another new column \"Terms_preprocessed\"\n",
    "def preprocess_terms(terms):\n",
    "    # Define a set of common stop words\n",
    "    stop_words = set([\n",
    "        \"a\", \"an\", \"the\", \"and\", \"is\", \"in\", \"it\", \"to\", \"of\", \"for\", \"on\", \"with\", \"as\"\n",
    "    ])\n",
    "    \n",
    "    # Remove punctuation and convert to lowercase\n",
    "    terms = [term.lower().strip(string.punctuation) for term in terms]\n",
    "    \n",
    "    # Remove stop words\n",
    "    terms = [term for term in terms if term not in stop_words]\n",
    "    \n",
    "    return terms\n",
    "\n",
    "df[\"Terms_preprocessed\"] = df[\"Terms\"].apply(preprocess_terms)"
   ]
  },
  {
   "cell_type": "code",
   "execution_count": 14,
   "id": "131fdcaf",
   "metadata": {},
   "outputs": [
    {
     "name": "stdout",
     "output_type": "stream",
     "text": [
      "{'introduction': {1}, 'python': {1}, 'john': {1}, 'doe': {1}, 'data': {2, 5}, 'analysis': {2}, 'pandas': {2}, 'jane': {2}, 'smith': {2}, 'web': {3}, 'development': {3}, 'flask': {3}, 'mike': {3}, 'johnson': {3}, 'machine': {4}, 'learning': {4}, 'scikit-learn': {4}, 'emily': {4}, 'davis': {4}, 'visualization': {5}, 'matplotlib': {5}, 'robert': {5}, 'clark': {5}}\n"
     ]
    }
   ],
   "source": [
    "# Initialize an empty inverted index dictionary\n",
    "# Build the inverted index\n",
    "# Initialize an empty inverted index dictionary\n",
    "inverted_index = {}\n",
    "\n",
    "# Build the inverted index\n",
    "for index, row in df.iterrows():\n",
    "    document_id = row[\"Document ID\"]\n",
    "    terms = row[\"Terms_preprocessed\"]\n",
    "    \n",
    "    # Update the inverted index with terms and document IDs\n",
    "    for term in terms:\n",
    "        if term not in inverted_index:\n",
    "            inverted_index[term] = set()\n",
    "        inverted_index[term].add(document_id)\n",
    "\n",
    "# Display the inverted index\n",
    "print(inverted_index)"
   ]
  },
  {
   "cell_type": "code",
   "execution_count": 21,
   "id": "1b929397",
   "metadata": {},
   "outputs": [
    {
     "name": "stdout",
     "output_type": "stream",
     "text": [
      "{1, 2}\n",
      "set()\n"
     ]
    }
   ],
   "source": [
    "# perform boolean operations on postings lists for Boolean search operations\n",
    "# 1. \"Python\" OR \"Pandas\"\n",
    "def boolean_or(postings_list_1, postings_list_2):\n",
    "    merged_postings_list = set()\n",
    "    for document_id in postings_list_1:\n",
    "        merged_postings_list.add(document_id)\n",
    "    for document_id in postings_list_2:\n",
    "        if document_id not in merged_postings_list:\n",
    "            merged_postings_list.add(document_id)\n",
    "    return merged_postings_list\n",
    "\n",
    "# Get the postings lists for \"python\" and \"pandas\"\n",
    "python_postings_list = inverted_index[\"python\"]\n",
    "pandas_postings_list = inverted_index[\"pandas\"]\n",
    "\n",
    "# Perform a Boolean OR operation on the postings lists\n",
    "merged_postings_list = boolean_or(python_postings_list, pandas_postings_list)\n",
    "\n",
    "# Print the merged postings list\n",
    "print(merged_postings_list)\n",
    "# 2. \"Python\" AND \"data\"\n",
    "def boolean_and(postings_list_1, postings_list_2):\n",
    "    merged_postings_list = set()\n",
    "    for document_id in postings_list_1:\n",
    "        if document_id in postings_list_2:\n",
    "            merged_postings_list.add(document_id)\n",
    "    return merged_postings_list\n",
    "\n",
    "# Get the postings lists for \"python\" and \"data\"\n",
    "python_postings_list = inverted_index[\"python\"]\n",
    "data_postings_list = inverted_index[\"data\"]\n",
    "\n",
    "# Perform a Boolean AND operation on the postings lists\n",
    "merged_postings_list = boolean_and(python_postings_list, data_postings_list)\n",
    "\n",
    "# Print the merged postings list\n",
    "print(merged_postings_list)"
   ]
  },
  {
   "cell_type": "code",
   "execution_count": null,
   "id": "94e2bb25-a60f-4a8a-859f-19515a5610ba",
   "metadata": {},
   "outputs": [],
   "source": []
  }
 ],
 "metadata": {
  "kernelspec": {
   "display_name": "Python 3 (ipykernel)",
   "language": "python",
   "name": "python3"
  },
  "language_info": {
   "codemirror_mode": {
    "name": "ipython",
    "version": 3
   },
   "file_extension": ".py",
   "mimetype": "text/x-python",
   "name": "python",
   "nbconvert_exporter": "python",
   "pygments_lexer": "ipython3",
   "version": "3.11.5"
  }
 },
 "nbformat": 4,
 "nbformat_minor": 5
}
